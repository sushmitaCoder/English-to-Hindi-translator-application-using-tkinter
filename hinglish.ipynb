{
 "cells": [
  {
   "cell_type": "code",
   "execution_count": 5,
   "id": "24f8d012-0b0c-4fb1-bd32-a8b6597719aa",
   "metadata": {},
   "outputs": [],
   "source": [
    "# importing the module\n",
    "from englisttohindi.englisttohindi import EngtoHindi"
   ]
  },
  {
   "cell_type": "code",
   "execution_count": 6,
   "id": "f42d56b6-75bf-4b7a-8b7d-0be043c06992",
   "metadata": {},
   "outputs": [],
   "source": [
    "# message to be translated\n",
    "message = \"I am a doctor\""
   ]
  },
  {
   "cell_type": "code",
   "execution_count": 7,
   "id": "107c5065-f49c-4d16-898c-7fa31f648491",
   "metadata": {},
   "outputs": [],
   "source": [
    "# creating a EngtoHindi() object\n",
    "res = EngtoHindi(message)"
   ]
  },
  {
   "cell_type": "code",
   "execution_count": 8,
   "id": "02c14df3-0cfb-4ce8-8d1f-3f667d4d50e2",
   "metadata": {},
   "outputs": [
    {
     "name": "stdout",
     "output_type": "stream",
     "text": [
      "मैं एक डॉक्टर हूं\n"
     ]
    }
   ],
   "source": [
    "# displaying the translation\n",
    "print(res.convert)"
   ]
  },
  {
   "cell_type": "code",
   "execution_count": 9,
   "id": "66fceabd-9cab-454c-ac3f-c87b3afee01d",
   "metadata": {},
   "outputs": [],
   "source": [
    "# import modules\n",
    "from tkinter import *\n",
    "from englisttohindi.englisttohindi import EngtoHindi"
   ]
  },
  {
   "cell_type": "code",
   "execution_count": 10,
   "id": "91175b12-2785-4ab7-9599-4ec7728bb7f4",
   "metadata": {},
   "outputs": [],
   "source": [
    "# user define function\n",
    "def eng_to_hindi():\n",
    "    trans = EngtoHindi(str(e.get()))\n",
    "    res = trans.convert\n",
    "    result.set(res)  "
   ]
  },
  {
   "cell_type": "code",
   "execution_count": 11,
   "id": "cef134c5-5a4a-491e-82a9-1afc04760f78",
   "metadata": {},
   "outputs": [],
   "source": [
    "# object of tkinter\n",
    "# and background set for grey\n",
    "master = Tk()\n",
    "master.configure(bg = 'light grey')"
   ]
  },
  {
   "cell_type": "code",
   "execution_count": 12,
   "id": "eab93e81-bac9-4f65-b848-dd6bef5c64b1",
   "metadata": {},
   "outputs": [],
   "source": [
    "# Variable Classes in tkinter\n",
    "result = StringVar();"
   ]
  },
  {
   "cell_type": "code",
   "execution_count": 13,
   "id": "218b6463-8945-446e-a2b5-2778831049d7",
   "metadata": {},
   "outputs": [],
   "source": [
    "# Creating label for each information\n",
    "# name using widget Label\n",
    "Label(master, text=\"Enter Text : \" , bg = \"light grey\").grid(row = 0, sticky = W)\n",
    "Label(master, text=\"Result :\", bg = \"light grey\").grid(row = 3, sticky = W)"
   ]
  },
  {
   "cell_type": "code",
   "execution_count": 15,
   "id": "3f16687d-d776-4a8d-b8ed-11231baff2d6",
   "metadata": {},
   "outputs": [],
   "source": [
    "# Creating lebel for class variable\n",
    "# name using widget Entry\n",
    "Label(master, text=\"\", textvariable=result,bg = \"light grey\").grid(row = 3,\n",
    "                                                                   column = 1,\n",
    "                                                                   sticky = W)\n",
    "e = Entry(master, width = 100)\n",
    "e.grid(row = 0, column = 1)"
   ]
  },
  {
   "cell_type": "code",
   "execution_count": 16,
   "id": "1742298c-3eed-4dfd-9af1-26bf0d588c37",
   "metadata": {},
   "outputs": [],
   "source": [
    "# creating a button using the widget \n",
    "# Button that will call the submit function\n",
    "b = Button(master, text = \"Show\", command = eng_to_hindi, bg = \"Blue\")\n",
    "b.grid(row = 0, column = 2, columnspan = 2, rowspan = 2, padx = 5, pady = 5,)\n",
    " \n",
    "mainloop()"
   ]
  },
  {
   "cell_type": "code",
   "execution_count": null,
   "id": "43a87a17-5394-4f2f-9532-5d344d0f2cc6",
   "metadata": {},
   "outputs": [],
   "source": []
  }
 ],
 "metadata": {
  "kernelspec": {
   "display_name": "Python 3",
   "language": "python",
   "name": "python3"
  },
  "language_info": {
   "codemirror_mode": {
    "name": "ipython",
    "version": 3
   },
   "file_extension": ".py",
   "mimetype": "text/x-python",
   "name": "python",
   "nbconvert_exporter": "python",
   "pygments_lexer": "ipython3",
   "version": "3.9.6"
  }
 },
 "nbformat": 4,
 "nbformat_minor": 5
}
